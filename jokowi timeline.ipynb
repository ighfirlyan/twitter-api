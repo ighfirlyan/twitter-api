{
  "cells": [
    {
      "cell_type": "code",
      "execution_count": 6,
      "metadata": {
        "id": "EB5BtvV3mzRv"
      },
      "outputs": [],
      "source": [
        "#import semua library yang kalian butuhkan disini\n",
        "import json, tweepy"
      ]
    },
    {
      "cell_type": "code",
      "execution_count": 7,
      "metadata": {
        "colab": {
          "base_uri": "https://localhost:8080/"
        },
        "id": "nXj1rD5SVKgY",
        "outputId": "b85f1031-0b2e-4158-88f2-90f6e94c2b23"
      },
      "outputs": [
        {
          "data": {
            "text/plain": [
              "dict_keys(['api_key', 'api_key_secret', 'access_token', 'access_token_secret', 'bearer_token'])"
            ]
          },
          "execution_count": 7,
          "metadata": {},
          "output_type": "execute_result"
        }
      ],
      "source": [
        "#sel ini digunakan untuk membaca tokens kalian. simpan berkas token.json pada folder yang sama dengan file tugas ini\n",
        "\n",
        "with open(\"token.json\") as f:\n",
        "  tokens = json.load(f)\n",
        "\n",
        "bearer_token = tokens['bearer_token']\n",
        "api_key = tokens['api_key']\n",
        "api_key_secret = tokens['api_key_secret']\n",
        "access_token = tokens['access_token']\n",
        "access_token_secret = tokens['access_token_secret']\n",
        "\n",
        "tokens.keys()"
      ]
    },
    {
      "cell_type": "code",
      "execution_count": 8,
      "metadata": {},
      "outputs": [],
      "source": [
        "#buat variabel authentikasi dan api\n",
        "\n",
        "auth = tweepy.OAuthHandler(api_key, api_key_secret)\n",
        "auth.set_access_token(access_token, access_token_secret)\n",
        "api = tweepy.API(auth, wait_on_rate_limit=True)"
      ]
    },
    {
      "cell_type": "code",
      "execution_count": 9,
      "metadata": {},
      "outputs": [],
      "source": [
        "#Buatlah sebuah fungsi dengan nama user_timeline_scraper()\n",
        "#fungsi tersebut memiliki input username dari user\n",
        "#Fungsi ini berguna untuk mengambil 10 tweet yang berada di timeline user.\n",
        "#gunakan metode Cursor untuk tugas ini\n",
        "#gunakan tweet_mode --> extended\n",
        "\n",
        "def user_timeline_scraper(username):\n",
        "    response = tweepy.Cursor(api.user_timeline, screen_name = username, tweet_mode = 'extended').items(300)\n",
        "    for i in response:\n",
        "        print(i.full_text)\n",
        "        print(\"----------------------------------------\")"
      ]
    },
    {
      "cell_type": "code",
      "execution_count": 10,
      "metadata": {},
      "outputs": [],
      "source": [
        "username = \"jowoki\"\n",
        "user_timeline_scraper(username)"
      ]
    }
  ],
  "metadata": {
    "colab": {
      "collapsed_sections": [],
      "name": "tugas_23_coding.ipynb",
      "provenance": []
    },
    "kernelspec": {
      "display_name": "Python 3",
      "name": "python3"
    },
    "language_info": {
      "codemirror_mode": {
        "name": "ipython",
        "version": 3
      },
      "file_extension": ".py",
      "mimetype": "text/x-python",
      "name": "python",
      "nbconvert_exporter": "python",
      "pygments_lexer": "ipython3",
      "version": "3.9.4"
    }
  },
  "nbformat": 4,
  "nbformat_minor": 0
}

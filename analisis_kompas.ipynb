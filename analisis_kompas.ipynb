{
 "cells": [
  {
   "cell_type": "code",
   "execution_count": 1,
   "metadata": {},
   "outputs": [],
   "source": [
    "from urllib.request import urlopen, Request\n",
    "from bs4 import BeautifulSoup as bs\n",
    "import requests"
   ]
  },
  {
   "cell_type": "code",
   "execution_count": 2,
   "metadata": {},
   "outputs": [],
   "source": [
    "user_agent='Mozilla/5.0 (Macintosh; Intel Mac OS X 10_12_1) AppleWebKit/602.2.14 (KHTML, like Gecko) Version/10.0.1 Safari/602.2.14'\n",
    "headers = {'User-Agent': user_agent,'Accept':'text/html,application/xhtml+xml,application/xml;q=0.9,image/webp,*/*;q=0.8'}\n",
    "\n",
    "alamat = \"https://nasional.kompas.com/read/2020/10/15/18022671/polri-ungkap-percakapan-para-tersangka-di-grup-whatsapp-kami-medan?page=all#page2\"\n",
    "req = Request(alamat, headers=headers)\n",
    "html = urlopen(req)"
   ]
  },
  {
   "cell_type": "code",
   "execution_count": 3,
   "metadata": {},
   "outputs": [],
   "source": [
    "data = bs(html, 'html.parser')\n",
    "box = data.find(\"div\",{\"class\":\"read__content\"})\n",
    "\n",
    "hidelabel = box.findAll('strong')\n",
    "for delete in hidelabel:\n",
    "    delete.decompose()\n",
    "\n",
    "items = box.findAll('p')\n",
    "hasil = [item.get_text() for item in items]"
   ]
  },
  {
   "cell_type": "code",
   "execution_count": 4,
   "metadata": {},
   "outputs": [
    {
     "name": "stdout",
     "output_type": "stream",
     "text": [
      "[' - Polisi menangkap admin serta anggota grup aplikasi WhatsApp bernama “KAMI Medan” karena diduga terkait aksi menolak UU Cipta Kerja yang berujung rusuh di Medan, Sumatera Utara.', 'Total empat orang yang ditangkap di Medan dalam kurun waktu 9-12 Oktober 2020, yakni KA, JG, NZ, WRP.', 'KA atau Khairi Amri merupakan Ketua Koalisi Aksi Menyelamatkan Indonesia (KAMI) Medan. Kepala Divisi Humas Polri Irjen Argo Yuwono menyebut KA sebagai admin grup tersebut.', '“Yang dimasukkan ke WAG ini ada foto kantor DPR RI dimasukkan di WAG, kemudian tulisannya, ‘Dijamin komplit, kantor, sarang maling dan setan’, ada di sana tulisannya,” ucap Argo di Gedung Bareskrim, Jakarta Selatan, Kamis (15/10/2020).', '', 'Kemudian, KA, menurut polisi, juga menulis “Mengumpulkan saksi untuk melempari DPR dan melempari polisi” serta “Kalian jangan takut dan jangan mundur” di grup tersebut.', 'Kemudian, di grup yang sama, tersangka JG diduga menulis instruksi pembuatan skenario seperti kerusuhan Mei 1998.', '“Kemudian ada juga (JG) menyampaikannya ‘Buat skenario seperti 98’, kemudian ‘Penjarahan toko China dan rumah-rumahnya’, kemudian ‘Preman diikutkan untuk menjarah’,” kata Argo.', 'Tersangka JG juga diduga menulis perihal bom molotov yang menurut polisi berbunyi “Batu kena satu orang, bom molotov bisa kebakar 10 orang dan bensin bisa berjajaran”.', '', 'Aparat pun mengklaim telah menemukan bom molotov saat aksi di Medan tersebut. Bom molotov itu, katanya, diduga dilempar dan membakar sebuah mobil.', 'Untuk tersangka NZ, polisi menuturkan, perannya juga menulis di grup tersebut.', '“Dia (NZ) menyampaikan bahwa ‘Medan cocoknya didaratin. Yakin pemerintah sendiri bakal perang sendiri sama China’,” tuturnya.', 'Terakhir, tersangka WRP diduga menyampaikan perihal kewajiban membawa bom molotov.', 'Argo menuturkan, WRP menulis “Besok wajib bawa bom molotov”.', '', 'Dalam kasus tersebut, polisi menyita barang bukti berupa telepon genggam, dokumen percakapan para tersangka, serta uang Rp 500.000.', 'Menurut Argo, uang tersebut dikumpulkan melalui grup WhatsApp tersebut untuk logistik saat aksi.', 'Keempat tersangka dijerat Pasal 28 ayat 2 jo Pasal 45A ayat 2 UU ITE dan Pasal 160 KUHP. Ancaman hukumannya 6 tahun penjara.', 'Saat ini, seluruh tersangka ditahan di Rutan Salemba cabang Bareskrim Polri. Polisi menegaskan tidak akan mengabulkan penangguhan penahanan.']\n"
     ]
    }
   ],
   "source": [
    "print(hasil)"
   ]
  },
  {
   "cell_type": "code",
   "execution_count": 5,
   "metadata": {},
   "outputs": [],
   "source": [
    "import re\n",
    "from nltk.corpus import stopwords\n",
    "from nltk.tokenize import word_tokenize"
   ]
  },
  {
   "cell_type": "code",
   "execution_count": 6,
   "metadata": {},
   "outputs": [
    {
     "name": "stdout",
     "output_type": "stream",
     "text": [
      "polisi menangkap admin anggota grup aplikasi whatsapp bernama medan diduga terkait aksi menolak uu cipta kerja berujung rusuh medan sumatera utara total orang ditangkap medan kurun 9 12 oktober 2020 ka jg nz wrp ka khairi amri ketua koalisi aksi menyelamatkan indonesia medan kepala divisi humas polri irjen argo yuwono menyebut ka admin grup dimasukkan wag foto kantor dpr ri dimasukkan wag tulisannya dijamin komplit kantor sarang maling setan tulisannya argo gedung bareskrim jakarta selatan kamis 15 10 2020 ka polisi menulis mengumpulkan saksi melempari dpr melempari polisi takut mundur grup grup tersangka jg diduga menulis instruksi pembuatan skenario kerusuhan mei 1998 jg menyampaikannya skenario 98 penjarahan toko china rumah rumahnya preman diikutkan menjarah argo tersangka jg diduga menulis perihal bom molotov polisi berbunyi batu kena orang bom molotov kebakar 10 orang bensin berjajaran aparat mengklaim menemukan bom molotov aksi medan bom molotov diduga dilempar membakar mobil tersangka nz polisi perannya menulis grup nz medan cocoknya didaratin pemerintah perang china tersangka wrp diduga perihal kewajiban membawa bom molotov argo wrp menulis besok wajib bawa bom molotov polisi menyita barang bukti telepon genggam dokumen percakapan tersangka uang rp 500 000 argo uang dikumpulkan grup whatsapp logistik aksi keempat tersangka dijerat pasal 28 ayat 2 jo pasal 45a ayat 2 uu ite pasal 160 kuhp ancaman hukumannya 6 penjara tersangka ditahan rutan salemba cabang bareskrim polri polisi mengabulkan penangguhan penahanan\n"
     ]
    }
   ],
   "source": [
    "hasil = [item.lower() for item in hasil]\n",
    "hasil = [' '.join(re.sub(\"(@[A-Za-z0-9]+)|([^0-9A-Za-z \\t])|(\\w+:\\/\\/\\S+)\", \" \", item).split()) for item in hasil]\n",
    "\n",
    "paragraf = ' '.join(hasil)\n",
    "stop_words = set(stopwords.words('indonesian'))\n",
    "word_tokens = word_tokenize(paragraf) \n",
    "paragraf_2 = ' '.join([w for w in word_tokens if not w in stop_words])\n",
    "\n",
    "print (paragraf_2)"
   ]
  }
 ],
 "metadata": {
  "interpreter": {
   "hash": "3454bc21589f5bc48f743d0fde9bff51384294738c6356029fae86a372931a9f"
  },
  "kernelspec": {
   "display_name": "Python 3.9.4 64-bit",
   "language": "python",
   "name": "python3"
  },
  "language_info": {
   "codemirror_mode": {
    "name": "ipython",
    "version": 3
   },
   "file_extension": ".py",
   "mimetype": "text/x-python",
   "name": "python",
   "nbconvert_exporter": "python",
   "pygments_lexer": "ipython3",
   "version": "3.9.4"
  },
  "orig_nbformat": 4
 },
 "nbformat": 4,
 "nbformat_minor": 2
}

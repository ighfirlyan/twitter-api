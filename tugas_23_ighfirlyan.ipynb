{
  "cells": [
    {
      "cell_type": "code",
      "execution_count": 1,
      "metadata": {
        "id": "EB5BtvV3mzRv"
      },
      "outputs": [],
      "source": [
        "#import semua library yang kalian butuhkan disini\n",
        "import json, tweepy"
      ]
    },
    {
      "cell_type": "code",
      "execution_count": 2,
      "metadata": {
        "colab": {
          "base_uri": "https://localhost:8080/"
        },
        "id": "nXj1rD5SVKgY",
        "outputId": "b85f1031-0b2e-4158-88f2-90f6e94c2b23"
      },
      "outputs": [
        {
          "ename": "FileNotFoundError",
          "evalue": "[Errno 2] No such file or directory: 'token.json'",
          "output_type": "error",
          "traceback": [
            "\u001b[1;31m---------------------------------------------------------------------------\u001b[0m",
            "\u001b[1;31mFileNotFoundError\u001b[0m                         Traceback (most recent call last)",
            "\u001b[1;32mC:\\Users\\IGHFIR~1\\AppData\\Local\\Temp/ipykernel_31940/3549870398.py\u001b[0m in \u001b[0;36m<module>\u001b[1;34m\u001b[0m\n\u001b[0;32m      1\u001b[0m \u001b[1;31m#sel ini digunakan untuk membaca tokens kalian. simpan berkas token.json pada folder yang sama dengan file tugas ini\u001b[0m\u001b[1;33m\u001b[0m\u001b[1;33m\u001b[0m\u001b[1;33m\u001b[0m\u001b[0m\n\u001b[0;32m      2\u001b[0m \u001b[1;33m\u001b[0m\u001b[0m\n\u001b[1;32m----> 3\u001b[1;33m \u001b[1;32mwith\u001b[0m \u001b[0mopen\u001b[0m\u001b[1;33m(\u001b[0m\u001b[1;34m\"token.json\"\u001b[0m\u001b[1;33m)\u001b[0m \u001b[1;32mas\u001b[0m \u001b[0mf\u001b[0m\u001b[1;33m:\u001b[0m\u001b[1;33m\u001b[0m\u001b[1;33m\u001b[0m\u001b[0m\n\u001b[0m\u001b[0;32m      4\u001b[0m   \u001b[0mtokens\u001b[0m \u001b[1;33m=\u001b[0m \u001b[0mjson\u001b[0m\u001b[1;33m.\u001b[0m\u001b[0mload\u001b[0m\u001b[1;33m(\u001b[0m\u001b[0mf\u001b[0m\u001b[1;33m)\u001b[0m\u001b[1;33m\u001b[0m\u001b[1;33m\u001b[0m\u001b[0m\n\u001b[0;32m      5\u001b[0m \u001b[1;33m\u001b[0m\u001b[0m\n",
            "\u001b[1;31mFileNotFoundError\u001b[0m: [Errno 2] No such file or directory: 'token.json'"
          ]
        }
      ],
      "source": [
        "#sel ini digunakan untuk membaca tokens kalian. simpan berkas token.json pada folder yang sama dengan file tugas ini\n",
        "\n",
        "with open(\"token.json\") as f:\n",
        "  tokens = json.load(f)\n",
        "\n",
        "bearer_token = tokens['bearer_token']\n",
        "api_key = tokens['api_key']\n",
        "api_key_secret = tokens['api_key_secret']\n",
        "access_token = tokens['access_token']\n",
        "access_token_secret = tokens['access_token_secret']\n",
        "\n",
        "tokens.keys()"
      ]
    },
    {
      "cell_type": "code",
      "execution_count": 53,
      "metadata": {},
      "outputs": [],
      "source": [
        "#buat variabel authentikasi dan api\n",
        "\n",
        "auth = tweepy.OAuthHandler(api_key, api_key_secret)\n",
        "auth.set_access_token(access_token, access_token_secret)\n",
        "api = tweepy.API(auth, wait_on_rate_limit=True)"
      ]
    },
    {
      "cell_type": "code",
      "execution_count": 59,
      "metadata": {},
      "outputs": [],
      "source": [
        "#Buatlah sebuah fungsi dengan nama user_timeline_scraper()\n",
        "#fungsi tersebut memiliki input username dari user\n",
        "#Fungsi ini berguna untuk mengambil 10 tweet yang berada di timeline user.\n",
        "#gunakan metode Cursor untuk tugas ini\n",
        "#gunakan tweet_mode --> extended\n",
        "\n",
        "def user_timeline_scraper(username):\n",
        "    response = tweepy.Cursor(api.user_timeline, screen_name = username, tweet_mode = 'extended').items(300)\n",
        "    for i in response:\n",
        "        print(i.full_text)\n",
        "        print(\"----------------------------------------\")"
      ]
    },
    {
      "cell_type": "code",
      "execution_count": 64,
      "metadata": {},
      "outputs": [
        {
          "name": "stdout",
          "output_type": "stream",
          "text": [
            "DPR mau menganggarkan Rp48.7 miliar buat beli gorden untuk 575 rumah dinas anggota DPR. Jadi, kira-kira satu rumah dapet anggaran Rp84.7 juta untuk beli gorden 👏\n",
            "Hmm, berapa harga gorden termahal yg pernah kamu beli? 🧐\n",
            "\n",
            "| Mata Najwa\n",
            "#NextJourneyMataNajwa https://t.co/NsfbWa3kOp\n",
            "----------------------------------------\n",
            "Orang Korea Selatan Punya Usia Satu Tahun Lebih Tua: Riset dan Penjelasannya\n",
            "https://t.co/eOOs8KTGMD\n",
            "\n",
            "Korea Selatan punya cara menghitung umurnya sendiri. Terkadang ini membingungkan. | Buka Data\n",
            "----------------------------------------\n",
            "Menyambut Hari Raya Kreativitas\n",
            "https://t.co/vVZrwCrRI3\n",
            "\n",
            "Saksikan showcase Indonesia Digital Tribe tanggal 31 Maret 2022 dan cari tahu informasi lengkapnya di instagram @.indonesiadigitaltribe | Catatan Najwa\n",
            "----------------------------------------\n",
            "KPU dan Johnny G Plate, Menteri Komunikasi dan Infomatika, sempat bahas e-voting buat Pemilu 2024 (kalo nggak ditunda, yaa).\n",
            "\n",
            "Masing-masing pihak punya pendapatnya sendiri soal e-voting Pemilu 2024. Kalau kamu?\n",
            "\n",
            "| Mata Najwa\n",
            "#NextJourneyMataNajwa https://t.co/E51cP2LF9u\n",
            "----------------------------------------\n",
            "@arifkasiman @ER @NajwaShihab Boleh mudik, kak. Syaratnya udah vaksin booster dan tetap mematuhi prokes 👌\n",
            "----------------------------------------\n",
            "Lebaran sebentar lagi... Mudik udah menanti.\n",
            "\n",
            "Cerita yuk apa yang bikin kangen suasana Lebaran di kampung?\n",
            "\n",
            "Ilustrasi karya kolaborator Narasi Ecosystem : @er.riz \n",
            "\n",
            "| Mata Najwa\n",
            "#NextJourneyMataNajwa #MataNajwa #KolaborasidiNarasi https://t.co/u3lOFkEVe5\n",
            "----------------------------------------\n",
            "Luhut melaporkan Haris Azhar ke polisi atas kasus pencemaran nama baik. Haris telah ditetapkan sebagai tersangka dengan jerat UU ITE.\n",
            "Haris Azhar bersama Koalisi Masyarakat Sipil balik melaporkan Luhut soal dugaan gratifikasi di Papua, tapi ditolak Polda Metro Jaya.\n",
            "\n",
            "| Mata Najwa https://t.co/OBQHKRZzF3\n",
            "----------------------------------------\n",
            "#CintaiProdukDalamNegeri\n",
            "----------------------------------------\n",
            "\"Bodoh banget kita ini.\"\n",
            "\n",
            "\"Uang-uang APBN, uang rakyat, uang kita sendiri kok dibelikan barang import,\" kata Presiden Jokowi 😌\n",
            "\n",
            "| Mata Najwa\n",
            "#NextJourneyMataNajwa #MataNajwa #Narasi #JadiPaham https://t.co/sFGbzl3ApQ\n",
            "----------------------------------------\n",
            "Bongkar UU ITE\n",
            "https://t.co/8JBvSWTERG\n",
            "\n",
            "Dalam episode \"BONGKAR UU ITE\", Andovi da Lopez membongkar berbagai permasalahan dalam UU ITE, salah satunya pasal karet yang dapat menjerat aktivis, jurnalis, dan warga biasa. | Bongkar\n",
            "----------------------------------------\n"
          ]
        }
      ],
      "source": [
        "username = \"matanajwa\"\n",
        "user_timeline_scraper(username)"
      ]
    }
  ],
  "metadata": {
    "colab": {
      "collapsed_sections": [],
      "name": "tugas_23_coding.ipynb",
      "provenance": []
    },
    "kernelspec": {
      "display_name": "Python 3",
      "name": "python3"
    },
    "language_info": {
      "codemirror_mode": {
        "name": "ipython",
        "version": 3
      },
      "file_extension": ".py",
      "mimetype": "text/x-python",
      "name": "python",
      "nbconvert_exporter": "python",
      "pygments_lexer": "ipython3",
      "version": "3.9.4"
    }
  },
  "nbformat": 4,
  "nbformat_minor": 0
}

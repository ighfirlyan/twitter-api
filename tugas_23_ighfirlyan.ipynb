{
  "cells": [
    {
      "cell_type": "code",
      "execution_count": 1,
      "metadata": {
        "id": "EB5BtvV3mzRv"
      },
      "outputs": [],
      "source": [
        "#import semua library yang kalian butuhkan disini\n",
        "import json, tweepy"
      ]
    },
    {
      "cell_type": "code",
      "execution_count": 2,
      "metadata": {
        "colab": {
          "base_uri": "https://localhost:8080/"
        },
        "id": "nXj1rD5SVKgY",
        "outputId": "b85f1031-0b2e-4158-88f2-90f6e94c2b23"
      },
      "outputs": [
        {
          "data": {
            "text/plain": [
              "dict_keys(['api_key', 'api_key_secret', 'access_token', 'access_token_secret', 'bearer_token'])"
            ]
          },
          "execution_count": 2,
          "metadata": {},
          "output_type": "execute_result"
        }
      ],
      "source": [
        "#sel ini digunakan untuk membaca tokens kalian. simpan berkas token.json pada folder yang sama dengan file tugas ini\n",
        "\n",
        "with open(\"token.json\") as f:\n",
        "  tokens = json.load(f)\n",
        "\n",
        "bearer_token = tokens['bearer_token']\n",
        "api_key = tokens['api_key']\n",
        "api_key_secret = tokens['api_key_secret']\n",
        "access_token = tokens['access_token']\n",
        "access_token_secret = tokens['access_token_secret']\n",
        "\n",
        "tokens.keys()"
      ]
    },
    {
      "cell_type": "code",
      "execution_count": 3,
      "metadata": {},
      "outputs": [],
      "source": [
        "#buat variabel authentikasi dan api\n",
        "\n",
        "auth = tweepy.OAuthHandler(api_key, api_key_secret)\n",
        "auth.set_access_token(access_token, access_token_secret)\n",
        "api = tweepy.API(auth, wait_on_rate_limit=True)"
      ]
    },
    {
      "cell_type": "code",
      "execution_count": 4,
      "metadata": {},
      "outputs": [],
      "source": [
        "#Buatlah sebuah fungsi dengan nama user_timeline_scraper()\n",
        "#fungsi tersebut memiliki input username dari user\n",
        "#Fungsi ini berguna untuk mengambil 10 tweet yang berada di timeline user.\n",
        "#gunakan metode Cursor untuk tugas ini\n",
        "#gunakan tweet_mode --> extended\n",
        "\n",
        "def user_timeline_scraper(username):\n",
        "    response = tweepy.Cursor(api.user_timeline, screen_name = username, tweet_mode = 'extended').items(300)\n",
        "    for i in response:\n",
        "        print(i.full_text)\n",
        "        print(\"----------------------------------------\")"
      ]
    },
    {
      "cell_type": "code",
      "execution_count": 5,
      "metadata": {},
      "outputs": [
        {
          "name": "stdout",
          "output_type": "stream",
          "text": [
            "Delete the w in twitter?\n",
            "----------------------------------------\n",
            "@sweatystartup Exactly\n",
            "----------------------------------------\n",
            "Convert Twitter SF HQ to homeless shelter since no one shows up anyway\n",
            "----------------------------------------\n",
            "@PPathole Price should probably be ~$2/month, but paid 12 months up front &amp; account doesn’t get checkmark for 60 days (watch for CC chargebacks) &amp; suspended with no refund if used for scam/spam\n",
            "----------------------------------------\n",
            "And no ads. The power of corporations to dictate policy is greatly enhanced if Twitter depends on advertising money to survive.\n",
            "----------------------------------------\n",
            "@PPathole It should go away or scammers will game the system by signing up only for a few months\n",
            "----------------------------------------\n",
            "But should be different from “public figure” or “official account” checkmark\n",
            "----------------------------------------\n",
            "@GonzaAbalos Maybe even an option to pay in Doge?\n",
            "----------------------------------------\n",
            "@GonzaAbalos Yes, should be proportionate to affordability &amp; in local currency\n",
            "----------------------------------------\n",
            "Blue already has a modifiable 20 second time to edit tweet feature\n",
            "----------------------------------------\n",
            "@BLKMDL3 Exactly. It would massively expand the verified pool &amp; make bot armies too expensive to maintain.\n",
            "----------------------------------------\n",
            "Everyone who signs up for Twitter Blue (ie pays $3/month) should get an authentication checkmark\n",
            "----------------------------------------\n",
            "@michaeljburry You will get it back, even though you shorted Tesla, you bastard 🤣\n",
            "----------------------------------------\n",
            "Weather is fake. I seen Truman Show!\n",
            "----------------------------------------\n",
            "@teslaownersSV The resemblance is uncanny https://t.co/egFdUWso7Q\n",
            "----------------------------------------\n",
            "@LPofMN As the saying goes, when the government first prints money, everyone feels like a winner, but in the end no one does\n",
            "----------------------------------------\n",
            "@siddarthpaim Fake news purveyors would have hysterics, but a ratings system would improve quality of news greatly\n",
            "----------------------------------------\n",
            "@universal_sci All of Earth is a tiny dust mote compared to the Sun\n",
            "----------------------------------------\n",
            "@UKSAguy @RubinReport Yes\n",
            "----------------------------------------\n",
            "@JohnnaCrider1 .@Beeple is 🔥🔥\n",
            "----------------------------------------\n"
          ]
        }
      ],
      "source": [
        "username = \"elonmusk\"\n",
        "user_timeline_scraper(username)"
      ]
    }
  ],
  "metadata": {
    "colab": {
      "collapsed_sections": [],
      "name": "tugas_23_coding.ipynb",
      "provenance": []
    },
    "kernelspec": {
      "display_name": "Python 3",
      "name": "python3"
    },
    "language_info": {
      "codemirror_mode": {
        "name": "ipython",
        "version": 3
      },
      "file_extension": ".py",
      "mimetype": "text/x-python",
      "name": "python",
      "nbconvert_exporter": "python",
      "pygments_lexer": "ipython3",
      "version": "3.9.4"
    }
  },
  "nbformat": 4,
  "nbformat_minor": 0
}

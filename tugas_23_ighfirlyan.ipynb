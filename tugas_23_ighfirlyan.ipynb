{
  "cells": [
    {
      "cell_type": "code",
      "execution_count": 6,
      "metadata": {
        "id": "EB5BtvV3mzRv"
      },
      "outputs": [],
      "source": [
        "#import semua library yang kalian butuhkan disini\n",
        "import json, tweepy"
      ]
    },
    {
      "cell_type": "code",
      "execution_count": 7,
      "metadata": {
        "colab": {
          "base_uri": "https://localhost:8080/"
        },
        "id": "nXj1rD5SVKgY",
        "outputId": "b85f1031-0b2e-4158-88f2-90f6e94c2b23"
      },
      "outputs": [
        {
          "data": {
            "text/plain": [
              "dict_keys(['api_key', 'api_key_secret', 'access_token', 'access_token_secret', 'bearer_token'])"
            ]
          },
          "execution_count": 7,
          "metadata": {},
          "output_type": "execute_result"
        }
      ],
      "source": [
        "#sel ini digunakan untuk membaca tokens kalian. simpan berkas token.json pada folder yang sama dengan file tugas ini\n",
        "\n",
        "with open(\"token.json\") as f:\n",
        "  tokens = json.load(f)\n",
        "\n",
        "bearer_token = tokens['bearer_token']\n",
        "api_key = tokens['api_key']\n",
        "api_key_secret = tokens['api_key_secret']\n",
        "access_token = tokens['access_token']\n",
        "access_token_secret = tokens['access_token_secret']\n",
        "\n",
        "tokens.keys()"
      ]
    },
    {
      "cell_type": "code",
      "execution_count": 8,
      "metadata": {},
      "outputs": [],
      "source": [
        "#buat variabel authentikasi dan api\n",
        "\n",
        "auth = tweepy.OAuthHandler(api_key, api_key_secret)\n",
        "auth.set_access_token(access_token, access_token_secret)\n",
        "api = tweepy.API(auth, wait_on_rate_limit=True)"
      ]
    },
    {
      "cell_type": "code",
      "execution_count": 9,
      "metadata": {},
      "outputs": [],
      "source": [
        "#Buatlah sebuah fungsi dengan nama user_timeline_scraper()\n",
        "#fungsi tersebut memiliki input username dari user\n",
        "#Fungsi ini berguna untuk mengambil 10 tweet yang berada di timeline user.\n",
        "#gunakan metode Cursor untuk tugas ini\n",
        "#gunakan tweet_mode --> extended\n",
        "\n",
        "def user_timeline_scraper(username):\n",
        "    response = tweepy.Cursor(api.user_timeline, screen_name = username, tweet_mode = 'extended').items(300)\n",
        "    for i in response:\n",
        "        print(i.full_text)\n",
        "        print(\"----------------------------------------\")"
      ]
    },
    {
      "cell_type": "code",
      "execution_count": 10,
      "metadata": {},
      "outputs": [
        {
          "name": "stdout",
          "output_type": "stream",
          "text": [
            "@RealWheelieman @WholeMarsBlog Increasingly likely that the Tesla vehicle computer will be able to process 288 FPS (36 Hz * 8 cameras)\n",
            "----------------------------------------\n",
            "@RealWheelieman @WholeMarsBlog 10.12 will significantly improve unprotected left turns\n",
            "----------------------------------------\n",
            "@Rainmaker1973 The power used by humans is so tiny compared to how much power from the Sun reaches Earth!\n",
            "\n",
            "Solar power is ~1GW per sq km. At current solar efficiency, net electrical power is ~200 MW per square km.\n",
            "\n",
            "The entire United States can be powered by a small corner of Texas.\n",
            "----------------------------------------\n",
            "RT @SpaceX: Falcon 9 and Dragon vertical at 39A; targeting Friday, April 8 for launch of Ax-1 → https://t.co/sIz9U6NRxT https://t.co/NSJqo3…\n",
            "----------------------------------------\n",
            "@pmarca @skepticaliblog Yikes\n",
            "----------------------------------------\n",
            "@pmarca WaPo always good for a laugh 🤣🤣\n",
            "----------------------------------------\n",
            "@jack Thanks Jack!\n",
            "----------------------------------------\n",
            "@paraga Looking forward to working with Parag &amp; Twitter board to make significant improvements to Twitter in coming months!\n",
            "----------------------------------------\n",
            "@PPathole @Erdayastronaut Yeah, single most annoying problem on twitter imo\n",
            "----------------------------------------\n",
            "@Erdayastronaut That sounds reasonable\n",
            "----------------------------------------\n",
            "@boztank @Liz_Wheeler Facebook gives me the willies\n",
            "----------------------------------------\n",
            "@OstynHyss @stevenmarkryan That is harder than a boss battle in DS3!\n",
            "----------------------------------------\n",
            "@stevenmarkryan I mean, if the people vote overwhelmingly for something, it is at least *a* data point!\n",
            "----------------------------------------\n",
            "Do you want an edit button?\n",
            "----------------------------------------\n",
            "@hausman_k @GoogleAI Staggeringly unfunny\n",
            "----------------------------------------\n",
            "@WholeMarsBlog First I’ve learned of this. Will be patched shortly.\n",
            "----------------------------------------\n",
            "@jonas2man @slashdot Yes!\n",
            "----------------------------------------\n",
            "@slashdot Spain should build a massive solar array. Could power all of Europe.\n",
            "----------------------------------------\n",
            "Oh hi lol\n",
            "----------------------------------------\n",
            "Berlin rocks\n",
            "----------------------------------------\n"
          ]
        }
      ],
      "source": [
        "username = \"elonmusk\"\n",
        "user_timeline_scraper(username)"
      ]
    }
  ],
  "metadata": {
    "colab": {
      "collapsed_sections": [],
      "name": "tugas_23_coding.ipynb",
      "provenance": []
    },
    "kernelspec": {
      "display_name": "Python 3",
      "name": "python3"
    },
    "language_info": {
      "codemirror_mode": {
        "name": "ipython",
        "version": 3
      },
      "file_extension": ".py",
      "mimetype": "text/x-python",
      "name": "python",
      "nbconvert_exporter": "python",
      "pygments_lexer": "ipython3",
      "version": "3.9.4"
    }
  },
  "nbformat": 4,
  "nbformat_minor": 0
}

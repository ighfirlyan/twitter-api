{
 "cells": [
  {
   "cell_type": "code",
   "execution_count": 57,
   "metadata": {},
   "outputs": [],
   "source": [
    "# import library\n",
    "\n",
    "import pandas as pd\n",
    "from nltk.tokenize import word_tokenize\n",
    "import matplotlib.pyplot as plt\n",
    "import numpy as np\n",
    "from nltk.probability import FreqDist\n",
    "import nltk"
   ]
  },
  {
   "cell_type": "code",
   "execution_count": 58,
   "metadata": {},
   "outputs": [],
   "source": [
    "df = pd.read_csv('umk_tweets_202112_clean.csv')"
   ]
  },
  {
   "cell_type": "code",
   "execution_count": 59,
   "metadata": {},
   "outputs": [
    {
     "data": {
      "text/html": [
       "<div>\n",
       "<style scoped>\n",
       "    .dataframe tbody tr th:only-of-type {\n",
       "        vertical-align: middle;\n",
       "    }\n",
       "\n",
       "    .dataframe tbody tr th {\n",
       "        vertical-align: top;\n",
       "    }\n",
       "\n",
       "    .dataframe thead th {\n",
       "        text-align: right;\n",
       "    }\n",
       "</style>\n",
       "<table border=\"1\" class=\"dataframe\">\n",
       "  <thead>\n",
       "    <tr style=\"text-align: right;\">\n",
       "      <th></th>\n",
       "      <th>tweet</th>\n",
       "      <th>userid</th>\n",
       "    </tr>\n",
       "  </thead>\n",
       "  <tbody>\n",
       "    <tr>\n",
       "      <th>0</th>\n",
       "      <td>umk sragen ditetapkan rp rp sayang terendah so...</td>\n",
       "      <td>949224511508955136</td>\n",
       "    </tr>\n",
       "    <tr>\n",
       "      <th>1</th>\n",
       "      <td>umk kota bekasi ump dki jakarta yak terobosss😭</td>\n",
       "      <td>1259379786566086658</td>\n",
       "    </tr>\n",
       "    <tr>\n",
       "      <th>2</th>\n",
       "      <td>umk yo regone mundak maneh bos</td>\n",
       "      <td>1572322873</td>\n",
       "    </tr>\n",
       "    <tr>\n",
       "      <th>3</th>\n",
       "      <td>umk kabupatenkota jawa resmi diumumkan kota se...</td>\n",
       "      <td>949224511508955136</td>\n",
       "    </tr>\n",
       "    <tr>\n",
       "      <th>4</th>\n",
       "      <td>sumpah umk malang segini iya mending nyari ker...</td>\n",
       "      <td>181023564</td>\n",
       "    </tr>\n",
       "  </tbody>\n",
       "</table>\n",
       "</div>"
      ],
      "text/plain": [
       "                                               tweet               userid\n",
       "0  umk sragen ditetapkan rp rp sayang terendah so...   949224511508955136\n",
       "1     umk kota bekasi ump dki jakarta yak terobosss😭  1259379786566086658\n",
       "2                     umk yo regone mundak maneh bos           1572322873\n",
       "3  umk kabupatenkota jawa resmi diumumkan kota se...   949224511508955136\n",
       "4  sumpah umk malang segini iya mending nyari ker...            181023564"
      ]
     },
     "execution_count": 59,
     "metadata": {},
     "output_type": "execute_result"
    }
   ],
   "source": [
    "df.head()"
   ]
  },
  {
   "cell_type": "markdown",
   "metadata": {},
   "source": [
    "## Distribusi Frekuensi Jumlah Karakter per Data"
   ]
  },
  {
   "cell_type": "markdown",
   "metadata": {},
   "source": [
    "Sekarang kita akan mencoba melihat distribusi jumlah karakter per data yang kita miliki. Disini kita bisa melihat bagaimana persebaran panjang tweet secara keseluruhan."
   ]
  },
  {
   "cell_type": "code",
   "execution_count": 60,
   "metadata": {},
   "outputs": [
    {
     "data": {
      "image/png": "[encoded data removed]",
      "text/plain": [
       "<Figure size 432x288 with 1 Axes>"
      ]
     },
     "metadata": {
      "needs_background": "light"
     },
     "output_type": "display_data"
    }
   ],
   "source": [
    "bin_range = np.arange(0, 260, 10)\n",
    "df['tweet'].str.len().hist(bins=bin_range)\n",
    "plt.show()"
   ]
  },
  {
   "cell_type": "markdown",
   "metadata": {},
   "source": [
    "\n",
    "Dari sini kita bisa melihat, distribusi terbanyak berada pada 30 - 60 karakter per tweet. Dengan tweet yang memiliki panjang diatas 100 karakter, setiap nilainya tidak lebih dari 50 tweet."
   ]
  },
  {
   "cell_type": "markdown",
   "metadata": {},
   "source": [
    "## Distribusi Frekuensi Jumlah Kata per Data"
   ]
  },
  {
   "cell_type": "markdown",
   "metadata": {},
   "source": [
    "Sekarang kita akan mencoba melihat distribusi jumlah kata per data yang kita miliki. Disini kita bisa melihat bagaimana persebaran panjang tweet secara keseluruhan."
   ]
  },
  {
   "cell_type": "code",
   "execution_count": 61,
   "metadata": {},
   "outputs": [
    {
     "data": {
      "image/png": "[encoded data removed]",
      "text/plain": [
       "<Figure size 432x288 with 1 Axes>"
      ]
     },
     "metadata": {
      "needs_background": "light"
     },
     "output_type": "display_data"
    }
   ],
   "source": [
    "bin_range = np.arange(0, 50)\n",
    "df['tweet'].str.split().map(lambda x: len(x)).hist(bins=bin_range)\n",
    "plt.show()"
   ]
  },
  {
   "cell_type": "markdown",
   "metadata": {},
   "source": [
    "## Distribusi Frekuensi Panjang Kata Rata-Rata Pada Data"
   ]
  },
  {
   "cell_type": "code",
   "execution_count": 62,
   "metadata": {},
   "outputs": [
    {
     "data": {
      "image/png": "[encoded data removed]",
      "text/plain": [
       "<Figure size 432x288 with 1 Axes>"
      ]
     },
     "metadata": {
      "needs_background": "light"
     },
     "output_type": "display_data"
    }
   ],
   "source": [
    "df['tweet'].str.split().apply(lambda x : [len(i) for i in x]).map(lambda x: np.mean(x)).hist()\n",
    "plt.show()"
   ]
  },
  {
   "cell_type": "markdown",
   "metadata": {},
   "source": [
    "Dari sini kita bisa melihat, distribusi terbanyak berada pada 5 - 10 kata per tweet. Tweet dengan jumlah kata di atas 15 bisa dibilang tidak terlalu banyak."
   ]
  },
  {
   "cell_type": "markdown",
   "metadata": {},
   "source": [
    "Jika kita gabungkan hasil analisa sebelumnya, maka kita tahu mayoritas tweet berada pada 5 -10 kata dengan setiap kata berada di antara 5 - 7 karakter dan total 30 - 60 karakter. Bisa dibilang cukup banyak orang yang memberikan tweet dengan opini."
   ]
  },
  {
   "cell_type": "markdown",
   "metadata": {},
   "source": [
    "## Distribusi Frekuensi Kata"
   ]
  },
  {
   "cell_type": "markdown",
   "metadata": {},
   "source": [
    "Mencari Most Frequency Word merupakan salah satu hal penting untuk dapat dilakukan, karena dengan hal ini kita bisa melakukan analisis secara kasar tentang bagaimana fitur yang dimiliki oleh data yang kita ambil. Kita juga dapat melihat bahasa slang yang sering keluar yang bisa kita bersihkan. Akan tetapi karena dataset yang kita miliki sudah bersih, sehingga hal tersebut bisa kita lewati pada kesempatan kali ini."
   ]
  },
  {
   "cell_type": "code",
   "execution_count": 63,
   "metadata": {},
   "outputs": [],
   "source": [
    "# Pertama kita lakukan tokenization pada dataset kita\n",
    "\n",
    "df['tweet'] = df['tweet'].apply(lambda x: word_tokenize(str(x)))"
   ]
  },
  {
   "cell_type": "code",
   "execution_count": 64,
   "metadata": {},
   "outputs": [],
   "source": [
    "# masukkan pada semua token tersebut pada satu list yang sama\n",
    "\n",
    "tweets = [word for tweet in df['tweet'] for word in tweet]"
   ]
  },
  {
   "cell_type": "code",
   "execution_count": 65,
   "metadata": {},
   "outputs": [
    {
     "name": "stdout",
     "output_type": "stream",
     "text": [
      "<FreqDist with 3573 samples and 16905 outcomes>\n"
     ]
    }
   ],
   "source": [
    "fqdist = FreqDist(tweets)\n",
    "print(fqdist)"
   ]
  },
  {
   "cell_type": "code",
   "execution_count": 66,
   "metadata": {},
   "outputs": [
    {
     "name": "stdout",
     "output_type": "stream",
     "text": [
      "[('umk', 1633), ('jawa', 589), ('tidak', 339), ('buruh', 320), ('kota', 253), ('gubernur', 239), ('timur', 237), ('barat', 236), ('rp', 197), ('upah', 173), ('kabupaten', 169), ('daftar', 156), ('kenaikan', 156), ('gaji', 146), ('besaran', 140), ('tertinggi', 124), ('daerah', 120), ('minimum', 117), ('kabupatenkota', 103), ('banten', 102)]\n"
     ]
    }
   ],
   "source": [
    "# Untuk mengetahui kata dan jumlah dari masing-masing kata kita bisa menggunakan.\n",
    "\n",
    "most_common_word = fqdist.most_common(20)\n",
    "print(most_common_word)"
   ]
  },
  {
   "cell_type": "code",
   "execution_count": 67,
   "metadata": {},
   "outputs": [
    {
     "data": {
      "image/png": "[encoded data removed]",
      "text/plain": [
       "<Figure size 432x288 with 1 Axes>"
      ]
     },
     "metadata": {
      "needs_background": "light"
     },
     "output_type": "display_data"
    }
   ],
   "source": [
    "# Visualisasi\n",
    "\n",
    "fqdist.plot(20,cumulative=False)\n",
    "plt.show()"
   ]
  },
  {
   "cell_type": "markdown",
   "metadata": {},
   "source": [
    "UMK berada di urutan teratas, bisa dimengerti dengan UMK adalah kata kunci pencarian kita. Jawa, Buruh, Kota, dan Gubernur menjadi kata selanjutnya yang sering keluar. Dari sini kita bisa mengambil kesimpulan keselurahan tweet adalah tentang UMK Buruh di Kota dan Provinsi Pulan Jawa."
   ]
  },
  {
   "cell_type": "markdown",
   "metadata": {},
   "source": [
    "## Distribusi N-Gram"
   ]
  },
  {
   "cell_type": "markdown",
   "metadata": {},
   "source": [
    "Kekurangan dari melihat hanya dari distribusi kata adalah kita yang akan kesulitan dalam memahami makna, dikarenakan satu kata pada umumnya akan sulit menjelaskan pertanyaan \"WHY\" (Kenapa dengan tweet ini, apa yang menyebabkan UMK menjadi kata kunci tertinggi). saat itulah N-Gram bermain."
   ]
  },
  {
   "cell_type": "markdown",
   "metadata": {},
   "source": [
    "Untuk memperlihatkan nilai n-gram kita bisa melakukan dengan module ngram pada NLTK"
   ]
  },
  {
   "cell_type": "code",
   "execution_count": 68,
   "metadata": {},
   "outputs": [],
   "source": [
    "result = pd.Series(nltk.ngrams(tweets, 2)).value_counts()[:20]"
   ]
  },
  {
   "cell_type": "markdown",
   "metadata": {},
   "source": [
    "2 karena kita melakukan bi-gram\n",
    "\n",
    ":20 artinya kita mengambil 20 nilai teratas."
   ]
  },
  {
   "cell_type": "code",
   "execution_count": 69,
   "metadata": {},
   "outputs": [
    {
     "name": "stdout",
     "output_type": "stream",
     "text": [
      "(jawa, timur)               232\n",
      "(jawa, barat)               227\n",
      "(umk, jawa)                 169\n",
      "(upah, minimum)             116\n",
      "(kenaikan, umk)             102\n",
      "(besaran, umk)               93\n",
      "(gubernur, jawa)             77\n",
      "(daftar, umk)                73\n",
      "(ridwan, kamil)              64\n",
      "(umk, kabupaten)             64\n",
      "(gaji, umk)                  63\n",
      "(umk, kota)                  56\n",
      "(rp, ribu)                   55\n",
      "(penetapan, umk)             54\n",
      "(daftar, lengkap)            48\n",
      "(umk, kabupatenkota)         47\n",
      "(kota, bekasi)               47\n",
      "(tetapkan, umk)              45\n",
      "(umk, tidak)                 41\n",
      "(minimum, kabupatenkota)     41\n",
      "dtype: int64\n"
     ]
    }
   ],
   "source": [
    "print (result)"
   ]
  },
  {
   "cell_type": "markdown",
   "metadata": {},
   "source": [
    "Dengan melihat bi-gram tersebut kita mendapat gambaran yang lebih jelas, bahwa keseluruhan tweet membahas tentang kenaikan UMK terutama di Jawa Barat dan Jawa Timur. Dari hasil ini sebenarnya terlihat bahwa UMK bisa menjadi salah satu stopword yang kita pilih, karena akan memberikan kesempatan kata lain untuk masuk. Dimana untuk UMK sendiri kita sudah tahu bahwa itu kata kunci penting karena pencarian kita berdasar pada kata tersebut."
   ]
  }
 ],
 "metadata": {
  "interpreter": {
   "hash": "3454bc21589f5bc48f743d0fde9bff51384294738c6356029fae86a372931a9f"
  },
  "kernelspec": {
   "display_name": "Python 3.9.4 64-bit",
   "language": "python",
   "name": "python3"
  },
  "language_info": {
   "codemirror_mode": {
    "name": "ipython",
    "version": 3
   },
   "file_extension": ".py",
   "mimetype": "text/x-python",
   "name": "python",
   "nbconvert_exporter": "python",
   "pygments_lexer": "ipython3",
   "version": "3.9.4"
  },
  "orig_nbformat": 4
 },
 "nbformat": 4,
 "nbformat_minor": 2
}

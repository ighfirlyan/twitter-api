{
 "cells": [
  {
   "cell_type": "code",
   "execution_count": 43,
   "metadata": {},
   "outputs": [],
   "source": [
    "import pandas as pd\n",
    "import re, string\n",
    "from nltk.tokenize import word_tokenize\n",
    "from Sastrawi.StopWordRemover.StopWordRemoverFactory import StopWordRemoverFactory\n",
    "from Sastrawi.Stemmer.StemmerFactory import StemmerFactory"
   ]
  },
  {
   "cell_type": "markdown",
   "metadata": {},
   "source": [
    "1. Merubah ke bentuk dataframe"
   ]
  },
  {
   "cell_type": "code",
   "execution_count": 44,
   "metadata": {},
   "outputs": [
    {
     "data": {
      "text/html": [
       "<div>\n",
       "<style scoped>\n",
       "    .dataframe tbody tr th:only-of-type {\n",
       "        vertical-align: middle;\n",
       "    }\n",
       "\n",
       "    .dataframe tbody tr th {\n",
       "        vertical-align: top;\n",
       "    }\n",
       "\n",
       "    .dataframe thead th {\n",
       "        text-align: right;\n",
       "    }\n",
       "</style>\n",
       "<table border=\"1\" class=\"dataframe\">\n",
       "  <thead>\n",
       "    <tr style=\"text-align: right;\">\n",
       "      <th></th>\n",
       "      <th>tweet</th>\n",
       "      <th>userid</th>\n",
       "    </tr>\n",
       "  </thead>\n",
       "  <tbody>\n",
       "    <tr>\n",
       "      <th>0</th>\n",
       "      <td>Tak Sesuai Kesepakatan, Buruh Tangerang Raya T...</td>\n",
       "      <td>58880688</td>\n",
       "    </tr>\n",
       "    <tr>\n",
       "      <th>1</th>\n",
       "      <td>@Resty442_ Kenapa demo buruh yg berjubel2 dapa...</td>\n",
       "      <td>1330047738541694978</td>\n",
       "    </tr>\n",
       "    <tr>\n",
       "      <th>2</th>\n",
       "      <td>Demo Buruh Rentan Ditunggangi Provokator\\nhttp...</td>\n",
       "      <td>1213739491384426497</td>\n",
       "    </tr>\n",
       "    <tr>\n",
       "      <th>3</th>\n",
       "      <td>@geloraco buruh, PP juga kemarin demo gak ada ...</td>\n",
       "      <td>930191748688592896</td>\n",
       "    </tr>\n",
       "    <tr>\n",
       "      <th>4</th>\n",
       "      <td>Berikanlah kepada buruh upahnya sebelum kering...</td>\n",
       "      <td>62988958</td>\n",
       "    </tr>\n",
       "  </tbody>\n",
       "</table>\n",
       "</div>"
      ],
      "text/plain": [
       "                                               tweet               userid\n",
       "0  Tak Sesuai Kesepakatan, Buruh Tangerang Raya T...             58880688\n",
       "1  @Resty442_ Kenapa demo buruh yg berjubel2 dapa...  1330047738541694978\n",
       "2  Demo Buruh Rentan Ditunggangi Provokator\\nhttp...  1213739491384426497\n",
       "3  @geloraco buruh, PP juga kemarin demo gak ada ...   930191748688592896\n",
       "4  Berikanlah kepada buruh upahnya sebelum kering...             62988958"
      ]
     },
     "execution_count": 44,
     "metadata": {},
     "output_type": "execute_result"
    }
   ],
   "source": [
    "df = pd.read_csv('buruh_tweets_202112.csv')\n",
    "df.head()"
   ]
  },
  {
   "cell_type": "markdown",
   "metadata": {},
   "source": [
    "2. Prepocessing (Case folding, Menghilangkan stopwords, Menghilangkan bahasa slang)"
   ]
  },
  {
   "cell_type": "code",
   "execution_count": 45,
   "metadata": {},
   "outputs": [],
   "source": [
    "clean_tweet = df['tweet']"
   ]
  },
  {
   "cell_type": "code",
   "execution_count": 46,
   "metadata": {},
   "outputs": [],
   "source": [
    "# mengubah teks menjadi lowercase\n",
    "\n",
    "def case_folding(text):\n",
    "    text = text.lower()\n",
    "    text = re.sub(r\"\\d+\", \"\", text)\n",
    "    text = text.translate(str.maketrans(\"\",\"\", string.punctuation))\n",
    "    text = text.rstrip().lstrip()\n",
    "    text = text.replace('   ',' ')\n",
    "\n",
    "    return text"
   ]
  },
  {
   "cell_type": "code",
   "execution_count": 47,
   "metadata": {},
   "outputs": [],
   "source": [
    "def tokenizing(text:str):\n",
    "    '''\n",
    "    input : string\n",
    "    output : list of tokens\n",
    "\n",
    "    memisahkan kalimat menjadi token token kata dan dimasukkan ke dalam sebuah list\n",
    "    '''\n",
    "    text_tokens = word_tokenize(text)\n",
    "    return(text_tokens)"
   ]
  },
  {
   "cell_type": "code",
   "execution_count": 48,
   "metadata": {},
   "outputs": [],
   "source": [
    "def remove_stopwords(text:str):\n",
    "    stopwords_engine = StopWordRemoverFactory()\n",
    "    stopwords = stopwords_engine.get_stop_words()\n",
    "    \n",
    "    result = []\n",
    "    for word in text:\n",
    "        if word not in stopwords:\n",
    "            result.append(word)\n",
    "    return result "
   ]
  },
  {
   "cell_type": "code",
   "execution_count": 49,
   "metadata": {},
   "outputs": [],
   "source": [
    "def stemming(text:string):\n",
    "    '''\n",
    "    input: string\n",
    "    output: string\n",
    "\n",
    "    mengubah bentuk dasar pada kalimat\n",
    "    '''\n",
    "    \n",
    "    engine = StemmerFactory()\n",
    "    stemmer = engine.create_stemmer()\n",
    "    text = stemmer.stem(text)\n",
    "\n",
    "    return text"
   ]
  },
  {
   "cell_type": "code",
   "execution_count": 50,
   "metadata": {},
   "outputs": [
    {
     "name": "stdout",
     "output_type": "stream",
     "text": [
      "kembang kuliner indonesia cukup bangga tahun akhir\n"
     ]
    }
   ],
   "source": [
    "kalimat = 'Perkembangan kuliner di indonesia cukup membanggakan dalam 10 tahun terakhir'\n",
    "\n",
    "kalimat = case_folding(kalimat)\n",
    "kalimat = tokenizing(kalimat)\n",
    "kalimat = remove_stopwords(kalimat)\n",
    "kalimat = stemming(' '.join(kalimat))\n",
    "\n",
    "print(kalimat)"
   ]
  },
  {
   "cell_type": "code",
   "execution_count": 51,
   "metadata": {},
   "outputs": [],
   "source": [
    "# kalimat = 'Perkembangan kuliner di indonesia cukup membanggakan dalam 10 tahun terakhir'\n",
    "\n",
    "# text = case_folding(text)\n",
    "# text = tokenizing(text)\n",
    "# text = remove_stopwords(text)\n",
    "# text = stemming(' '.join(text))\n",
    "\n",
    "# print(text)"
   ]
  },
  {
   "cell_type": "code",
   "execution_count": 52,
   "metadata": {},
   "outputs": [],
   "source": [
    "output=[]\n",
    "\n",
    "for text in clean_tweet:\n",
    "    text = case_folding(text)\n",
    "    text = tokenizing(text)\n",
    "    text = remove_stopwords(text)\n",
    "    text = stemming(' '.join(text))\n",
    "    output.append(text)"
   ]
  },
  {
   "cell_type": "code",
   "execution_count": null,
   "metadata": {},
   "outputs": [],
   "source": [
    "print(output)"
   ]
  },
  {
   "cell_type": "code",
   "execution_count": 58,
   "metadata": {},
   "outputs": [
    {
     "data": {
      "text/html": [
       "<div>\n",
       "<style scoped>\n",
       "    .dataframe tbody tr th:only-of-type {\n",
       "        vertical-align: middle;\n",
       "    }\n",
       "\n",
       "    .dataframe tbody tr th {\n",
       "        vertical-align: top;\n",
       "    }\n",
       "\n",
       "    .dataframe thead th {\n",
       "        text-align: right;\n",
       "    }\n",
       "</style>\n",
       "<table border=\"1\" class=\"dataframe\">\n",
       "  <thead>\n",
       "    <tr style=\"text-align: right;\">\n",
       "      <th></th>\n",
       "      <th>0</th>\n",
       "    </tr>\n",
       "  </thead>\n",
       "  <tbody>\n",
       "    <tr>\n",
       "      <th>0</th>\n",
       "      <td>tak sesuai sepakat buruh tangerang raya tolak ...</td>\n",
       "    </tr>\n",
       "    <tr>\n",
       "      <th>1</th>\n",
       "      <td>resty demo buruh yg jubel izinmakin terang ben...</td>\n",
       "    </tr>\n",
       "    <tr>\n",
       "      <th>2</th>\n",
       "      <td>demo buruh rentan tunggang provokator httpstco...</td>\n",
       "    </tr>\n",
       "    <tr>\n",
       "      <th>3</th>\n",
       "      <td>geloraco buruh pp kemarin demo gak tuh pasal y...</td>\n",
       "    </tr>\n",
       "    <tr>\n",
       "      <th>4</th>\n",
       "      <td>beri buruh upah kering keringat hr abu yula</td>\n",
       "    </tr>\n",
       "  </tbody>\n",
       "</table>\n",
       "</div>"
      ],
      "text/plain": [
       "                                                   0\n",
       "0  tak sesuai sepakat buruh tangerang raya tolak ...\n",
       "1  resty demo buruh yg jubel izinmakin terang ben...\n",
       "2  demo buruh rentan tunggang provokator httpstco...\n",
       "3  geloraco buruh pp kemarin demo gak tuh pasal y...\n",
       "4        beri buruh upah kering keringat hr abu yula"
      ]
     },
     "execution_count": 58,
     "metadata": {},
     "output_type": "execute_result"
    }
   ],
   "source": [
    "new_clean_tweet = pd.DataFrame(output)\n",
    "new_clean_tweet.head()"
   ]
  },
  {
   "cell_type": "code",
   "execution_count": 60,
   "metadata": {},
   "outputs": [
    {
     "data": {
      "text/html": [
       "<div>\n",
       "<style scoped>\n",
       "    .dataframe tbody tr th:only-of-type {\n",
       "        vertical-align: middle;\n",
       "    }\n",
       "\n",
       "    .dataframe tbody tr th {\n",
       "        vertical-align: top;\n",
       "    }\n",
       "\n",
       "    .dataframe thead th {\n",
       "        text-align: right;\n",
       "    }\n",
       "</style>\n",
       "<table border=\"1\" class=\"dataframe\">\n",
       "  <thead>\n",
       "    <tr style=\"text-align: right;\">\n",
       "      <th></th>\n",
       "      <th>0</th>\n",
       "    </tr>\n",
       "  </thead>\n",
       "  <tbody>\n",
       "    <tr>\n",
       "      <th>count</th>\n",
       "      <td>1000</td>\n",
       "    </tr>\n",
       "    <tr>\n",
       "      <th>unique</th>\n",
       "      <td>989</td>\n",
       "    </tr>\n",
       "    <tr>\n",
       "      <th>top</th>\n",
       "      <td>kongres aliansi serikat buruh indonesia salah ...</td>\n",
       "    </tr>\n",
       "    <tr>\n",
       "      <th>freq</th>\n",
       "      <td>8</td>\n",
       "    </tr>\n",
       "  </tbody>\n",
       "</table>\n",
       "</div>"
      ],
      "text/plain": [
       "                                                        0\n",
       "count                                                1000\n",
       "unique                                                989\n",
       "top     kongres aliansi serikat buruh indonesia salah ...\n",
       "freq                                                    8"
      ]
     },
     "execution_count": 60,
     "metadata": {},
     "output_type": "execute_result"
    }
   ],
   "source": [
    "new_clean_tweet.describe()"
   ]
  }
 ],
 "metadata": {
  "interpreter": {
   "hash": "3454bc21589f5bc48f743d0fde9bff51384294738c6356029fae86a372931a9f"
  },
  "kernelspec": {
   "display_name": "Python 3.9.4 64-bit",
   "language": "python",
   "name": "python3"
  },
  "language_info": {
   "codemirror_mode": {
    "name": "ipython",
    "version": 3
   },
   "file_extension": ".py",
   "mimetype": "text/x-python",
   "name": "python",
   "nbconvert_exporter": "python",
   "pygments_lexer": "ipython3",
   "version": "3.9.4"
  },
  "orig_nbformat": 4
 },
 "nbformat": 4,
 "nbformat_minor": 2
}

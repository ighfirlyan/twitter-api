{
 "cells": [
  {
   "cell_type": "code",
   "execution_count": 1,
   "metadata": {},
   "outputs": [],
   "source": [
    "# import library\n",
    "\n",
    "import pandas as pd\n",
    "import re, string\n",
    "from nltk.tokenize import word_tokenize\n",
    "from Sastrawi.StopWordRemover.StopWordRemoverFactory import StopWordRemoverFactory\n",
    "from Sastrawi.Stemmer.StemmerFactory import StemmerFactory"
   ]
  },
  {
   "cell_type": "markdown",
   "metadata": {},
   "source": [
    "## Menyiapkan Data Set"
   ]
  },
  {
   "cell_type": "code",
   "execution_count": 2,
   "metadata": {},
   "outputs": [
    {
     "data": {
      "text/html": [
       "<div>\n",
       "<style scoped>\n",
       "    .dataframe tbody tr th:only-of-type {\n",
       "        vertical-align: middle;\n",
       "    }\n",
       "\n",
       "    .dataframe tbody tr th {\n",
       "        vertical-align: top;\n",
       "    }\n",
       "\n",
       "    .dataframe thead th {\n",
       "        text-align: right;\n",
       "    }\n",
       "</style>\n",
       "<table border=\"1\" class=\"dataframe\">\n",
       "  <thead>\n",
       "    <tr style=\"text-align: right;\">\n",
       "      <th></th>\n",
       "      <th>tweet</th>\n",
       "      <th>userid</th>\n",
       "    </tr>\n",
       "  </thead>\n",
       "  <tbody>\n",
       "    <tr>\n",
       "      <th>0</th>\n",
       "      <td>Tak Sesuai Kesepakatan, Buruh Tangerang Raya T...</td>\n",
       "      <td>58880688</td>\n",
       "    </tr>\n",
       "    <tr>\n",
       "      <th>1</th>\n",
       "      <td>@Resty442_ Kenapa demo buruh yg berjubel2 dapa...</td>\n",
       "      <td>1330047738541694978</td>\n",
       "    </tr>\n",
       "    <tr>\n",
       "      <th>2</th>\n",
       "      <td>Demo Buruh Rentan Ditunggangi Provokator\\nhttp...</td>\n",
       "      <td>1213739491384426497</td>\n",
       "    </tr>\n",
       "    <tr>\n",
       "      <th>3</th>\n",
       "      <td>@geloraco buruh, PP juga kemarin demo gak ada ...</td>\n",
       "      <td>930191748688592896</td>\n",
       "    </tr>\n",
       "    <tr>\n",
       "      <th>4</th>\n",
       "      <td>Berikanlah kepada buruh upahnya sebelum kering...</td>\n",
       "      <td>62988958</td>\n",
       "    </tr>\n",
       "  </tbody>\n",
       "</table>\n",
       "</div>"
      ],
      "text/plain": [
       "                                               tweet               userid\n",
       "0  Tak Sesuai Kesepakatan, Buruh Tangerang Raya T...             58880688\n",
       "1  @Resty442_ Kenapa demo buruh yg berjubel2 dapa...  1330047738541694978\n",
       "2  Demo Buruh Rentan Ditunggangi Provokator\\nhttp...  1213739491384426497\n",
       "3  @geloraco buruh, PP juga kemarin demo gak ada ...   930191748688592896\n",
       "4  Berikanlah kepada buruh upahnya sebelum kering...             62988958"
      ]
     },
     "execution_count": 2,
     "metadata": {},
     "output_type": "execute_result"
    }
   ],
   "source": [
    "df = pd.read_csv('buruh_tweets_202112.csv')\n",
    "df.head()"
   ]
  },
  {
   "cell_type": "markdown",
   "metadata": {},
   "source": [
    "## Prepocessing (Case folding, Menghilangkan stopwords, Menghilangkan bahasa slang)"
   ]
  },
  {
   "cell_type": "code",
   "execution_count": 3,
   "metadata": {},
   "outputs": [],
   "source": [
    "tweet_df = df['tweet']"
   ]
  },
  {
   "cell_type": "markdown",
   "metadata": {},
   "source": [
    "### Case folding\n",
    "\n",
    "- Mengubah teks menjadi lowercase\n",
    "- Menghapus angka\n",
    "- Menghapus tanda baca\n",
    "- Menghapus whitespaces seperti newline dan newtab"
   ]
  },
  {
   "cell_type": "code",
   "execution_count": 4,
   "metadata": {},
   "outputs": [],
   "source": [
    "# casefolding\n",
    "\n",
    "def case_folding(text):\n",
    "    text = text.lower()\n",
    "    text = re.sub(r\"\\d+\", \"\", text)\n",
    "    text = text.translate(str.maketrans(\"\",\"\", string.punctuation))\n",
    "    text = text.rstrip().lstrip()\n",
    "    text = text.replace('   ',' ')\n",
    "\n",
    "    return text"
   ]
  },
  {
   "cell_type": "markdown",
   "metadata": {},
   "source": [
    "### Tokenizing\n",
    "\n",
    "Pemisalah sebuah kalimat menjadi kata per kata"
   ]
  },
  {
   "cell_type": "code",
   "execution_count": 5,
   "metadata": {},
   "outputs": [],
   "source": [
    "# tokenizing\n",
    "\n",
    "def tokenizing(text:str):\n",
    "    '''\n",
    "    input : string\n",
    "    output : list of tokens\n",
    "\n",
    "    memisahkan kalimat menjadi token token kata dan dimasukkan ke dalam sebuah list\n",
    "    '''\n",
    "    text_tokens = word_tokenize(text)\n",
    "    return(text_tokens)"
   ]
  },
  {
   "cell_type": "markdown",
   "metadata": {},
   "source": [
    "### Filtering\n",
    "\n",
    "Menghilangkan kata-kata yang tidak terpakai atau banyak digunakan dari kalimat (stopword)"
   ]
  },
  {
   "cell_type": "code",
   "execution_count": 6,
   "metadata": {},
   "outputs": [],
   "source": [
    "# Menghilangkan stopwords\n",
    "\n",
    "def remove_stopwords(text:str):\n",
    "    stopwords_engine = StopWordRemoverFactory()\n",
    "    stopwords = stopwords_engine.get_stop_words()\n",
    "    more_stopwords = ['yg', 'cnnindonesia','di'] # menambahkan stopwords\n",
    "    \n",
    "    result = []\n",
    "    for word in text:\n",
    "        if word not in stopwords + more_stopwords:\n",
    "        # if word not in stopwords:\n",
    "            result.append(word)\n",
    "    return result "
   ]
  },
  {
   "cell_type": "markdown",
   "metadata": {},
   "source": [
    "### Stemming\n",
    "\n",
    "Mengembalikan semua kata ke dalam bentuk dasar"
   ]
  },
  {
   "cell_type": "code",
   "execution_count": 7,
   "metadata": {},
   "outputs": [],
   "source": [
    "# stemming\n",
    "\n",
    "def stemming(text:string):\n",
    "    '''\n",
    "    input: string\n",
    "    output: string\n",
    "\n",
    "    mengubah bentuk dasar pada kalimat\n",
    "    '''\n",
    "    \n",
    "    engine = StemmerFactory()\n",
    "    stemmer = engine.create_stemmer()\n",
    "    text = stemmer.stem(text)\n",
    "\n",
    "    return text"
   ]
  },
  {
   "cell_type": "code",
   "execution_count": 8,
   "metadata": {},
   "outputs": [
    {
     "name": "stdout",
     "output_type": "stream",
     "text": [
      "kembang kuliner indonesia bangga tahun\n"
     ]
    }
   ],
   "source": [
    "kalimat = 'Perkembangan kuliner di indonesia cukup membanggakan dalam 10 tahun terakhir'\n",
    "\n",
    "kalimat = case_folding(kalimat)\n",
    "kalimat = tokenizing(kalimat)\n",
    "kalimat = remove_stopwords(kalimat)\n",
    "kalimat = stemming(' '.join(kalimat))\n",
    "\n",
    "print(kalimat)"
   ]
  },
  {
   "cell_type": "code",
   "execution_count": 9,
   "metadata": {},
   "outputs": [],
   "source": [
    "output=[]\n",
    "\n",
    "for text in tweet_df:\n",
    "    text = case_folding(text)\n",
    "    text = tokenizing(text)\n",
    "    text = remove_stopwords(text)\n",
    "    text = stemming(' '.join(text))\n",
    "    output.append(text)"
   ]
  },
  {
   "cell_type": "code",
   "execution_count": 10,
   "metadata": {},
   "outputs": [
    {
     "data": {
      "text/html": [
       "<div>\n",
       "<style scoped>\n",
       "    .dataframe tbody tr th:only-of-type {\n",
       "        vertical-align: middle;\n",
       "    }\n",
       "\n",
       "    .dataframe tbody tr th {\n",
       "        vertical-align: top;\n",
       "    }\n",
       "\n",
       "    .dataframe thead th {\n",
       "        text-align: right;\n",
       "    }\n",
       "</style>\n",
       "<table border=\"1\" class=\"dataframe\">\n",
       "  <thead>\n",
       "    <tr style=\"text-align: right;\">\n",
       "      <th></th>\n",
       "      <th>tweet</th>\n",
       "    </tr>\n",
       "  </thead>\n",
       "  <tbody>\n",
       "    <tr>\n",
       "      <th>0</th>\n",
       "      <td>sesuai sepakat buruh tangerang raya tolak teta...</td>\n",
       "    </tr>\n",
       "    <tr>\n",
       "      <th>1</th>\n",
       "      <td>resty demo buruh jubel izinmakin terang benderang</td>\n",
       "    </tr>\n",
       "    <tr>\n",
       "      <th>2</th>\n",
       "      <td>demo buruh rentan tunggang provokator httpstco...</td>\n",
       "    </tr>\n",
       "    <tr>\n",
       "      <th>3</th>\n",
       "      <td>geloraco buruh pp kemarin demo gak tuh pasal p...</td>\n",
       "    </tr>\n",
       "    <tr>\n",
       "      <th>4</th>\n",
       "      <td>beri buruh upah kering keringat hr abu yula</td>\n",
       "    </tr>\n",
       "  </tbody>\n",
       "</table>\n",
       "</div>"
      ],
      "text/plain": [
       "                                               tweet\n",
       "0  sesuai sepakat buruh tangerang raya tolak teta...\n",
       "1  resty demo buruh jubel izinmakin terang benderang\n",
       "2  demo buruh rentan tunggang provokator httpstco...\n",
       "3  geloraco buruh pp kemarin demo gak tuh pasal p...\n",
       "4        beri buruh upah kering keringat hr abu yula"
      ]
     },
     "execution_count": 10,
     "metadata": {},
     "output_type": "execute_result"
    }
   ],
   "source": [
    "clean_tweet = pd.DataFrame(data=output, columns=['tweet'])\n",
    "clean_tweet.head()"
   ]
  },
  {
   "cell_type": "markdown",
   "metadata": {},
   "source": [
    "## Data Processing - Text Data Analysis"
   ]
  },
  {
   "cell_type": "markdown",
   "metadata": {},
   "source": [
    "Data Processing menggunakan Library Sastrawi"
   ]
  },
  {
   "cell_type": "code",
   "execution_count": 11,
   "metadata": {},
   "outputs": [],
   "source": [
    "import pandas as pd\n",
    "from nltk.tokenize import word_tokenize\n",
    "import matplotlib.pyplot as plt\n",
    "import numpy as np\n",
    "from nltk.probability import FreqDist\n",
    "import nltk"
   ]
  },
  {
   "cell_type": "code",
   "execution_count": 12,
   "metadata": {},
   "outputs": [
    {
     "data": {
      "text/html": [
       "<div>\n",
       "<style scoped>\n",
       "    .dataframe tbody tr th:only-of-type {\n",
       "        vertical-align: middle;\n",
       "    }\n",
       "\n",
       "    .dataframe tbody tr th {\n",
       "        vertical-align: top;\n",
       "    }\n",
       "\n",
       "    .dataframe thead th {\n",
       "        text-align: right;\n",
       "    }\n",
       "</style>\n",
       "<table border=\"1\" class=\"dataframe\">\n",
       "  <thead>\n",
       "    <tr style=\"text-align: right;\">\n",
       "      <th></th>\n",
       "      <th>tweet</th>\n",
       "      <th>userid</th>\n",
       "    </tr>\n",
       "  </thead>\n",
       "  <tbody>\n",
       "    <tr>\n",
       "      <th>0</th>\n",
       "      <td>sesuai sepakat buruh tangerang raya tolak teta...</td>\n",
       "      <td>58880688</td>\n",
       "    </tr>\n",
       "    <tr>\n",
       "      <th>1</th>\n",
       "      <td>resty demo buruh jubel izinmakin terang benderang</td>\n",
       "      <td>1330047738541694978</td>\n",
       "    </tr>\n",
       "    <tr>\n",
       "      <th>2</th>\n",
       "      <td>demo buruh rentan tunggang provokator httpstco...</td>\n",
       "      <td>1213739491384426497</td>\n",
       "    </tr>\n",
       "    <tr>\n",
       "      <th>3</th>\n",
       "      <td>geloraco buruh pp kemarin demo gak tuh pasal p...</td>\n",
       "      <td>930191748688592896</td>\n",
       "    </tr>\n",
       "    <tr>\n",
       "      <th>4</th>\n",
       "      <td>beri buruh upah kering keringat hr abu yula</td>\n",
       "      <td>62988958</td>\n",
       "    </tr>\n",
       "    <tr>\n",
       "      <th>...</th>\n",
       "      <td>...</td>\n",
       "      <td>...</td>\n",
       "    </tr>\n",
       "    <tr>\n",
       "      <th>995</th>\n",
       "      <td>kalo buruh bicara jiwa kalo gaji potong httpst...</td>\n",
       "      <td>1021329195329179648</td>\n",
       "    </tr>\n",
       "    <tr>\n",
       "      <th>996</th>\n",
       "      <td>coferenigus rahmatsubekti buruhyogyakarta buruh</td>\n",
       "      <td>112568246</td>\n",
       "    </tr>\n",
       "    <tr>\n",
       "      <th>997</th>\n",
       "      <td>buruh suruh jiwa httpstcopgotdev</td>\n",
       "      <td>1319636205424709632</td>\n",
       "    </tr>\n",
       "    <tr>\n",
       "      <th>998</th>\n",
       "      <td>emersonyuntho hehee buya upah bahlil buruh uan...</td>\n",
       "      <td>1360582811921485826</td>\n",
       "    </tr>\n",
       "    <tr>\n",
       "      <th>999</th>\n",
       "      <td>rezim jokowi jni rezim anti buruh sejarah nkri...</td>\n",
       "      <td>1256152739127496704</td>\n",
       "    </tr>\n",
       "  </tbody>\n",
       "</table>\n",
       "<p>1000 rows × 2 columns</p>\n",
       "</div>"
      ],
      "text/plain": [
       "                                                 tweet               userid\n",
       "0    sesuai sepakat buruh tangerang raya tolak teta...             58880688\n",
       "1    resty demo buruh jubel izinmakin terang benderang  1330047738541694978\n",
       "2    demo buruh rentan tunggang provokator httpstco...  1213739491384426497\n",
       "3    geloraco buruh pp kemarin demo gak tuh pasal p...   930191748688592896\n",
       "4          beri buruh upah kering keringat hr abu yula             62988958\n",
       "..                                                 ...                  ...\n",
       "995  kalo buruh bicara jiwa kalo gaji potong httpst...  1021329195329179648\n",
       "996    coferenigus rahmatsubekti buruhyogyakarta buruh            112568246\n",
       "997                   buruh suruh jiwa httpstcopgotdev  1319636205424709632\n",
       "998  emersonyuntho hehee buya upah bahlil buruh uan...  1360582811921485826\n",
       "999  rezim jokowi jni rezim anti buruh sejarah nkri...  1256152739127496704\n",
       "\n",
       "[1000 rows x 2 columns]"
      ]
     },
     "execution_count": 12,
     "metadata": {},
     "output_type": "execute_result"
    }
   ],
   "source": [
    "clean_tweet['userid'] = df['userid']\n",
    "clean_tweet"
   ]
  },
  {
   "cell_type": "markdown",
   "metadata": {},
   "source": [
    "### Distribusi Frekuensi Jumlah Karakter per tweet"
   ]
  },
  {
   "cell_type": "code",
   "execution_count": 13,
   "metadata": {},
   "outputs": [
    {
     "data": {
      "image/png": "[encoded data removed]",
      "text/plain": [
       "<Figure size 432x288 with 1 Axes>"
      ]
     },
     "metadata": {
      "needs_background": "light"
     },
     "output_type": "display_data"
    }
   ],
   "source": [
    "bin_range = np.arange(0, 260, 10)\n",
    "clean_tweet['tweet'].str.len().hist(bins=bin_range)\n",
    "plt.show()"
   ]
  },
  {
   "cell_type": "markdown",
   "metadata": {},
   "source": [
    "Pada visualisasi data di atas, distribusi terbanyak berada pada 60-90 karakter per tweet. Tweet yang memiliki panjang di atas 100 karakter nilainya tidak lebih dari 60 tweet"
   ]
  },
  {
   "cell_type": "markdown",
   "metadata": {},
   "source": [
    "### Distribusi Frekuensi Jumlah Kata per tweet"
   ]
  },
  {
   "cell_type": "code",
   "execution_count": 14,
   "metadata": {},
   "outputs": [
    {
     "data": {
      "image/png": "[encoded data removed]",
      "text/plain": [
       "<Figure size 432x288 with 1 Axes>"
      ]
     },
     "metadata": {
      "needs_background": "light"
     },
     "output_type": "display_data"
    }
   ],
   "source": [
    "bin_range = np.arange(0, 100)\n",
    "clean_tweet['tweet'].str.split().map(lambda x: len(x)).hist(bins=bin_range)\n",
    "plt.show()"
   ]
  },
  {
   "cell_type": "markdown",
   "metadata": {},
   "source": [
    "Dari sini kita bisa melihat bahwa distribusi terbanyak berada pada 5 - 10 kata per tweet. Tweet dengan jumlah kata di atas 15 bisa dibilang tidak terlalu banyak."
   ]
  },
  {
   "cell_type": "markdown",
   "metadata": {},
   "source": [
    "### Distribusi Frekuensi Panjang Kata Rata-Rata Pada tweet"
   ]
  },
  {
   "cell_type": "code",
   "execution_count": 15,
   "metadata": {},
   "outputs": [
    {
     "data": {
      "image/png": "[encoded data removed]",
      "text/plain": [
       "<Figure size 432x288 with 1 Axes>"
      ]
     },
     "metadata": {
      "needs_background": "light"
     },
     "output_type": "display_data"
    }
   ],
   "source": [
    "clean_tweet['tweet'].str.split().apply(lambda x : [len(i) for i in x]).map(lambda x: np.mean(x)).hist()\n",
    "plt.show()"
   ]
  },
  {
   "cell_type": "markdown",
   "metadata": {},
   "source": [
    "Dari sini kita bisa melihat, distribusi terbanyak berada pada 5 - 7 karakter per kata per tweet. Jumlah huruf pada kata yang umum ada pada bahasa indonesia."
   ]
  },
  {
   "cell_type": "markdown",
   "metadata": {},
   "source": [
    "### Distribusi kata yang sering muncul"
   ]
  },
  {
   "cell_type": "code",
   "execution_count": 16,
   "metadata": {},
   "outputs": [],
   "source": [
    "# Pertama kita lakukan tokenization pada dataset kita\n",
    "\n",
    "new_clean_tweet = clean_tweet['tweet'].apply(lambda x: word_tokenize(str(x)))"
   ]
  },
  {
   "cell_type": "code",
   "execution_count": 17,
   "metadata": {},
   "outputs": [],
   "source": [
    "# masukkan pada semua token tersebut pada satu list yang sama\n",
    "\n",
    "tweets = [word for tweet in new_clean_tweet for word in tweet]"
   ]
  },
  {
   "cell_type": "code",
   "execution_count": 18,
   "metadata": {},
   "outputs": [
    {
     "name": "stdout",
     "output_type": "stream",
     "text": [
      "<FreqDist with 4403 samples and 14171 outcomes>\n"
     ]
    }
   ],
   "source": [
    "fqdist = FreqDist(tweets)\n",
    "print(fqdist)"
   ]
  },
  {
   "cell_type": "code",
   "execution_count": 19,
   "metadata": {},
   "outputs": [
    {
     "name": "stdout",
     "output_type": "stream",
     "text": [
      "[('buruh', 1125), ('demo', 231), ('gaji', 204), ('upah', 167), ('jiwa', 106), ('umk', 103), ('usaha', 98), ('naik', 82), ('aksi', 76), ('tinggi', 76), ('gak', 73), ('aja', 73), ('tuntut', 72), ('ga', 68), ('hidup', 63), ('jabat', 60), ('ump', 58), ('pabrik', 58), ('kerja', 53), ('bahlil', 50)]\n"
     ]
    }
   ],
   "source": [
    "# Untuk mengetahui kata dan jumlah dari masing-masing kata kita bisa menggunakan.\n",
    "\n",
    "most_common_word = fqdist.most_common(20)\n",
    "print(most_common_word)"
   ]
  },
  {
   "cell_type": "code",
   "execution_count": 20,
   "metadata": {},
   "outputs": [
    {
     "data": {
      "image/png": "[encoded data removed]",
      "text/plain": [
       "<Figure size 432x288 with 1 Axes>"
      ]
     },
     "metadata": {
      "needs_background": "light"
     },
     "output_type": "display_data"
    }
   ],
   "source": [
    "# Visualisasi\n",
    "\n",
    "fqdist.plot(20,cumulative=False)\n",
    "plt.show()"
   ]
  },
  {
   "cell_type": "markdown",
   "metadata": {},
   "source": [
    "\"buruh\" berada di urutan teratas sehingga dapat diketahui bahwa \"buruh\" adalah kata kunci pencarian. Selanjutnya adalah kata kunci \"demo\", \"gaji\", \"upah\", \"umk\", \"naik\", dsb menjadi kata selanjutnya yang sering keluar\n",
    "\n",
    "Dari sini kita bisa mengambil kesimpulan keseluruhan tweet adalah mengenai Demo buruh perihal kenaikan gaji dan UMK"
   ]
  },
  {
   "cell_type": "markdown",
   "metadata": {},
   "source": [
    "### Distribusi N-Gram"
   ]
  },
  {
   "cell_type": "markdown",
   "metadata": {},
   "source": [
    "Kekurangan dari melihat hanya dari distribusi kata adalah kita yang akan kesulitan dalam memahami makna, dikarenakan satu kata pada umumnya akan sulit menjelaskan pertanyaan \"WHY\" (Kenapa dengan tweet ini, apa yang menyebabkan \"Buruh\" menjadi kata kunci tertinggi). Sehingga dapat digunakan teknik distribusi N-Gram"
   ]
  },
  {
   "cell_type": "code",
   "execution_count": 21,
   "metadata": {},
   "outputs": [],
   "source": [
    "# Menggunakan modul gram pada NLTK\n",
    "\n",
    "result = pd.Series(nltk.ngrams(tweets, 2)).value_counts()[:20]"
   ]
  },
  {
   "cell_type": "code",
   "execution_count": 22,
   "metadata": {},
   "outputs": [
    {
     "data": {
      "text/plain": [
       "(demo, buruh)         100\n",
       "(buruh, demo)          50\n",
       "(buruh, pabrik)        36\n",
       "(upah, tinggi)         33\n",
       "(buruh, jiwa)          30\n",
       "(upah, buruh)          28\n",
       "(serikat, buruh)       27\n",
       "(tuntut, upah)         25\n",
       "(kaum, buruh)          24\n",
       "(naik, upah)           22\n",
       "(gaji, buruh)          21\n",
       "(jiwa, tuntut)         18\n",
       "(buruh, tuntut)        17\n",
       "(upah, minimum)        17\n",
       "(buruh, gaji)          16\n",
       "(tetap, ump)           16\n",
       "(buruh, tani)          16\n",
       "(umk, buruh)           15\n",
       "(naik, ump)            15\n",
       "(buruh, indonesia)     15\n",
       "dtype: int64"
      ]
     },
     "execution_count": 22,
     "metadata": {},
     "output_type": "execute_result"
    }
   ],
   "source": [
    "result"
   ]
  },
  {
   "cell_type": "markdown",
   "metadata": {},
   "source": [
    "Dari hasil distribusi bi-gram kita dapat melihat gambaran yang lebih jelas bahwa keseluruhan tweet membahas tentang demo buruh yang menuntut kenaikan upah."
   ]
  }
 ],
 "metadata": {
  "interpreter": {
   "hash": "3454bc21589f5bc48f743d0fde9bff51384294738c6356029fae86a372931a9f"
  },
  "kernelspec": {
   "display_name": "Python 3.9.4 64-bit",
   "language": "python",
   "name": "python3"
  },
  "language_info": {
   "codemirror_mode": {
    "name": "ipython",
    "version": 3
   },
   "file_extension": ".py",
   "mimetype": "text/x-python",
   "name": "python",
   "nbconvert_exporter": "python",
   "pygments_lexer": "ipython3",
   "version": "3.9.4"
  },
  "orig_nbformat": 4
 },
 "nbformat": 4,
 "nbformat_minor": 2
}
